{
 "cells": [
  {
   "cell_type": "code",
   "execution_count": 9,
   "metadata": {},
   "outputs": [],
   "source": [
    "import numpy as np\n",
    "import pandas as pd\n",
    "import cv2\n",
    "import os\n",
    "from matplotlib import pyplot as plt\n",
    "from PIL import Image"
   ]
  },
  {
   "cell_type": "code",
   "execution_count": 4,
   "metadata": {},
   "outputs": [],
   "source": [
    "path='C://Users//Ripple//Desktop//Python//OCR//archive//data//training_data'"
   ]
  },
  {
   "cell_type": "code",
   "execution_count": 5,
   "metadata": {},
   "outputs": [],
   "source": [
    "folder=os.listdir(path)"
   ]
  },
  {
   "cell_type": "code",
   "execution_count": 6,
   "metadata": {},
   "outputs": [],
   "source": [
    "rotate_90='C://Users//Ripple//Desktop//Python//OCR//archive//rotate_90'"
   ]
  },
  {
   "cell_type": "code",
   "execution_count": 13,
   "metadata": {},
   "outputs": [],
   "source": [
    "folder = os.listdir(path)\n",
    "\n",
    "for i in folder:\n",
    "    img_folder = os.path.join(path, i)\n",
    "    \n",
    "    # Ensure that it is a directory\n",
    "    if os.path.isdir(img_folder):\n",
    "        img_path = os.listdir(img_folder)[0:25]\n",
    "        \n",
    "        # Create a subfolder inside zoomoutfolder named after the current directory i\n",
    "        subfolder = os.path.join(rotate_90, i)\n",
    "        os.makedirs(subfolder, exist_ok=True)\n",
    "        \n",
    "        for j in img_path:\n",
    "            image = os.path.join(img_folder, j)\n",
    "            img = Image.open(image) \n",
    "            if img is not None:  # Ensure the image is read correctly\n",
    "                rotate_90_img = img.rotate(90) \n",
    "                save_path = os.path.join(subfolder, f\"{os.path.splitext(j)[0]}_rotate_90.png\") \n",
    "                rotate_90_img.save(save_path)"
   ]
  },
  {
   "cell_type": "code",
   "execution_count": null,
   "metadata": {},
   "outputs": [],
   "source": []
  },
  {
   "cell_type": "code",
   "execution_count": null,
   "metadata": {},
   "outputs": [],
   "source": []
  },
  {
   "cell_type": "code",
   "execution_count": null,
   "metadata": {},
   "outputs": [],
   "source": []
  },
  {
   "cell_type": "code",
   "execution_count": null,
   "metadata": {},
   "outputs": [],
   "source": []
  }
 ],
 "metadata": {
  "kernelspec": {
   "display_name": "Python 3",
   "language": "python",
   "name": "python3"
  },
  "language_info": {
   "codemirror_mode": {
    "name": "ipython",
    "version": 3
   },
   "file_extension": ".py",
   "mimetype": "text/x-python",
   "name": "python",
   "nbconvert_exporter": "python",
   "pygments_lexer": "ipython3",
   "version": "3.9.13"
  }
 },
 "nbformat": 4,
 "nbformat_minor": 2
}
