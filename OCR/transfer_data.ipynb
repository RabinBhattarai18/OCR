{
 "cells": [
  {
   "cell_type": "code",
   "execution_count": 1,
   "metadata": {},
   "outputs": [],
   "source": [
    "import os\n",
    "import shutil\n",
    "import cv2\n"
   ]
  },
  {
   "cell_type": "code",
   "execution_count": 2,
   "metadata": {},
   "outputs": [],
   "source": [
    "source='C://Users//Ripple//Desktop//Python//OCR//archive//Colourjittering'\n",
    "destination='C://Users//Ripple//Desktop//Python//OCR//archive//data//training_data'"
   ]
  },
  {
   "cell_type": "code",
   "execution_count": 3,
   "metadata": {},
   "outputs": [],
   "source": [
    "source_folders=os.listdir(source)\n",
    "destination_folder=os.listdir(destination)"
   ]
  },
  {
   "cell_type": "code",
   "execution_count": 28,
   "metadata": {},
   "outputs": [],
   "source": [
    "# for i in source_folders:\n",
    "#     image_folder=os.path.join(source,i)\n",
    "#     destination_path=os.path.join(destination,i)\n",
    "#     #print(destination_path)\n",
    "#     images=os.listdir(image_folder)\n",
    "#     #print(i)\n",
    "#     for j in images:\n",
    "#        destination_path=os.path.join(destination_path,f\"{j}.jpg\")\n",
    "#        img_path=os.path.join(image_folder,j)\n",
    "#        img=cv2.imread(img_path)\n",
    "#        cv2.imwrite(destination_path,img)\n"
   ]
  },
  {
   "cell_type": "code",
   "execution_count": 4,
   "metadata": {},
   "outputs": [],
   "source": [
    "for i in source_folders:\n",
    "    image_folder = os.path.join(source, i)\n",
    "    destination_folder = os.path.join(destination, i)  # Use a separate variable for folder path\n",
    "    \n",
    "    if not os.path.exists(destination_folder):\n",
    "        os.makedirs(destination_folder)\n",
    "    \n",
    "    images = os.listdir(image_folder)\n",
    "    \n",
    "    for j in images:\n",
    "        img_path = os.path.join(image_folder, j)\n",
    "        img = cv2.imread(img_path)\n",
    "        \n",
    "        # Use a new variable for each image's destination path\n",
    "        destination_path = os.path.join(destination_folder, f\"{j}.jpg\")\n",
    "        cv2.imwrite(destination_path, img)"
   ]
  }
 ],
 "metadata": {
  "kernelspec": {
   "display_name": "Python 3",
   "language": "python",
   "name": "python3"
  },
  "language_info": {
   "codemirror_mode": {
    "name": "ipython",
    "version": 3
   },
   "file_extension": ".py",
   "mimetype": "text/x-python",
   "name": "python",
   "nbconvert_exporter": "python",
   "pygments_lexer": "ipython3",
   "version": "3.9.13"
  }
 },
 "nbformat": 4,
 "nbformat_minor": 2
}
