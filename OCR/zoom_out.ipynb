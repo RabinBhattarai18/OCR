{
 "cells": [
  {
   "cell_type": "code",
   "execution_count": 14,
   "metadata": {},
   "outputs": [],
   "source": [
    "import numpy as np\n",
    "import pandas as pd\n",
    "import cv2\n",
    "import os\n",
    "from matplotlib import pyplot as plt"
   ]
  },
  {
   "cell_type": "code",
   "execution_count": 15,
   "metadata": {},
   "outputs": [],
   "source": [
    "path='C://Users//Ripple//Desktop//Python//OCR//archive//data//training_data'"
   ]
  },
  {
   "cell_type": "code",
   "execution_count": 16,
   "metadata": {},
   "outputs": [],
   "source": [
    "folder=os.listdir(path)"
   ]
  },
  {
   "cell_type": "code",
   "execution_count": 17,
   "metadata": {},
   "outputs": [],
   "source": [
    "zoomoutfolder='C://Users//Ripple//Desktop//Python//OCR//archive//zoomout'"
   ]
  },
  {
   "cell_type": "code",
   "execution_count": 19,
   "metadata": {},
   "outputs": [],
   "source": [
    "folder = os.listdir(path)\n",
    "\n",
    "for i in folder:\n",
    "    img_folder = os.path.join(path, i)\n",
    "    \n",
    "    # Ensure that it is a directory\n",
    "    if os.path.isdir(img_folder):\n",
    "        img_path = os.listdir(img_folder)[5:15]\n",
    "        \n",
    "        # Create a subfolder inside zoomoutfolder named after the current directory i\n",
    "        subfolder = os.path.join(zoomoutfolder, i)\n",
    "        os.makedirs(subfolder, exist_ok=True)\n",
    "        \n",
    "        for j in img_path:\n",
    "            image = os.path.join(img_folder, j)\n",
    "            img = cv2.imread(image)\n",
    "            if img is not None:  # Ensure the image is read correctly\n",
    "                zoom_out_img = cv2.resize(img, None, fx=0.8, fy=0.8, interpolation=cv2.INTER_LINEAR)\n",
    "                save_path = os.path.join(subfolder, f\"{os.path.splitext(j)[0]}_zoomout.png\") \n",
    "                cv2.imwrite(save_path, zoom_out_img)"
   ]
  },
  {
   "cell_type": "code",
   "execution_count": null,
   "metadata": {},
   "outputs": [],
   "source": []
  },
  {
   "cell_type": "code",
   "execution_count": null,
   "metadata": {},
   "outputs": [],
   "source": []
  },
  {
   "cell_type": "code",
   "execution_count": null,
   "metadata": {},
   "outputs": [],
   "source": []
  },
  {
   "cell_type": "code",
   "execution_count": null,
   "metadata": {},
   "outputs": [],
   "source": []
  },
  {
   "cell_type": "code",
   "execution_count": null,
   "metadata": {},
   "outputs": [],
   "source": []
  }
 ],
 "metadata": {
  "kernelspec": {
   "display_name": "Python 3",
   "language": "python",
   "name": "python3"
  },
  "language_info": {
   "codemirror_mode": {
    "name": "ipython",
    "version": 3
   },
   "file_extension": ".py",
   "mimetype": "text/x-python",
   "name": "python",
   "nbconvert_exporter": "python",
   "pygments_lexer": "ipython3",
   "version": "3.9.13"
  }
 },
 "nbformat": 4,
 "nbformat_minor": 2
}
