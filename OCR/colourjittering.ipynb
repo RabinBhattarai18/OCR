{
 "cells": [
  {
   "cell_type": "code",
   "execution_count": 6,
   "metadata": {},
   "outputs": [],
   "source": [
    "import numpy as np\n",
    "import pandas as pd\n",
    "import cv2\n",
    "import os\n",
    "from matplotlib import pyplot as plt"
   ]
  },
  {
   "cell_type": "code",
   "execution_count": 7,
   "metadata": {},
   "outputs": [],
   "source": [
    "path='C://Users//Ripple//Desktop//Python//OCR//archive//data//training_data'"
   ]
  },
  {
   "cell_type": "code",
   "execution_count": 8,
   "metadata": {},
   "outputs": [],
   "source": [
    "folder=os.listdir(path)"
   ]
  },
  {
   "cell_type": "code",
   "execution_count": 9,
   "metadata": {},
   "outputs": [],
   "source": [
    "Colourjittering='C://Users//Ripple//Desktop//Python//OCR//archive//Colourjittering'"
   ]
  },
  {
   "cell_type": "code",
   "execution_count": 5,
   "metadata": {},
   "outputs": [],
   "source": [
    "def adjust_brightness_contrast(image, brightness=0, contrast=0):\n",
    "    # Brightness adjustment\n",
    "    if brightness != 0:\n",
    "        if brightness > 0:\n",
    "            shadow = brightness\n",
    "            highlight = 255\n",
    "        else:\n",
    "            shadow = 0\n",
    "            highlight = 255 + brightness\n",
    "        alpha_b = (highlight - shadow) / 255\n",
    "        gamma_b = shadow\n",
    "\n",
    "        image = cv2.addWeighted(image, alpha_b, image, 0, gamma_b)\n",
    "\n",
    "    # Contrast adjustment\n",
    "    if contrast != 0:\n",
    "        f = 131 * (contrast + 127) / (127 * (131 - contrast))\n",
    "        alpha_c = f\n",
    "        gamma_c = 127 * (1 - f)\n",
    "\n",
    "        image = cv2.addWeighted(image, alpha_c, image, 0, gamma_c)\n",
    "\n",
    "    return image\n",
    "\n",
    "def adjust_saturation_hue(image, saturation=1, hue=0):\n",
    "    image = cv2.cvtColor(image, cv2.COLOR_BGR2HSV)\n",
    "    \n",
    "    # Saturation adjustment\n",
    "    image[:, :, 1] = cv2.multiply(image[:, :, 1], saturation)\n",
    "    \n",
    "    # Hue adjustment\n",
    "    image[:, :, 0] = (image[:, :, 0].astype(int) + hue) % 180\n",
    "    image[:, :, 0] = image[:, :, 0].astype(np.uint8)\n",
    "    \n",
    "    image = cv2.cvtColor(image, cv2.COLOR_HSV2BGR)\n",
    "    return image"
   ]
  },
  {
   "cell_type": "code",
   "execution_count": 3,
   "metadata": {},
   "outputs": [],
   "source": [
    "brightness = 30  # range: [-255, 255]\n",
    "contrast = 30    # range: [-127, 127]\n",
    "saturation = 1.5 # range: [0, 2]\n",
    "hue = 10         # range: [-180, 180]"
   ]
  },
  {
   "cell_type": "code",
   "execution_count": 4,
   "metadata": {},
   "outputs": [
    {
     "ename": "NameError",
     "evalue": "name 'folder' is not defined",
     "output_type": "error",
     "traceback": [
      "\u001b[1;31m---------------------------------------------------------------------------\u001b[0m",
      "\u001b[1;31mNameError\u001b[0m                                 Traceback (most recent call last)",
      "Cell \u001b[1;32mIn[4], line 1\u001b[0m\n\u001b[1;32m----> 1\u001b[0m \u001b[38;5;28;01mfor\u001b[39;00m i \u001b[38;5;129;01min\u001b[39;00m \u001b[43mfolder\u001b[49m:\n\u001b[0;32m      2\u001b[0m     img_folder \u001b[38;5;241m=\u001b[39m os\u001b[38;5;241m.\u001b[39mpath\u001b[38;5;241m.\u001b[39mjoin(path, i)\n\u001b[0;32m      4\u001b[0m     \u001b[38;5;66;03m# Ensure that it is a directory\u001b[39;00m\n",
      "\u001b[1;31mNameError\u001b[0m: name 'folder' is not defined"
     ]
    }
   ],
   "source": [
    "for i in folder:\n",
    "    img_folder = os.path.join(path, i)\n",
    "    \n",
    "    # Ensure that it is a directory\n",
    "    if os.path.isdir(img_folder):\n",
    "        img_path = os.listdir(img_folder)[0:100]\n",
    "        \n",
    "        # Create a subfolder inside Colourjittering named after the current directory i\n",
    "        subfolder = os.path.join(Colourjittering, i)\n",
    "        os.makedirs(subfolder, exist_ok=True)\n",
    "        \n",
    "        for j in img_path:\n",
    "            image_path = os.path.join(img_folder, j)\n",
    "            img = cv2.imread(image_path)\n",
    "            if img is not None:  # Ensure the image is read correctly\n",
    "                img = adjust_brightness_contrast(img, brightness=brightness, contrast=contrast)\n",
    "                img = adjust_saturation_hue(img, saturation=saturation, hue=hue)\n",
    "                save_path = os.path.join(subfolder, f\"{os.path.splitext(j)[0]}_colourjittering.png\") \n",
    "                cv2.imwrite(save_path, img)"
   ]
  },
  {
   "cell_type": "code",
   "execution_count": null,
   "metadata": {},
   "outputs": [],
   "source": []
  },
  {
   "cell_type": "code",
   "execution_count": null,
   "metadata": {},
   "outputs": [],
   "source": []
  },
  {
   "cell_type": "code",
   "execution_count": null,
   "metadata": {},
   "outputs": [],
   "source": []
  }
 ],
 "metadata": {
  "kernelspec": {
   "display_name": "Python 3",
   "language": "python",
   "name": "python3"
  },
  "language_info": {
   "codemirror_mode": {
    "name": "ipython",
    "version": 3
   },
   "file_extension": ".py",
   "mimetype": "text/x-python",
   "name": "python",
   "nbconvert_exporter": "python",
   "pygments_lexer": "ipython3",
   "version": "3.9.13"
  }
 },
 "nbformat": 4,
 "nbformat_minor": 2
}
